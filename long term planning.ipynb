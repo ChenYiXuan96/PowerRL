{
 "cells": [
  {
   "cell_type": "code",
   "execution_count": 1,
   "metadata": {},
   "outputs": [
    {
     "name": "stderr",
     "output_type": "stream",
     "text": [
      "/Users/alfred/Applications/anaconda3/lib/python3.7/site-packages/statsmodels/tools/_testing.py:19: FutureWarning: pandas.util.testing is deprecated. Use the functions in the public API at pandas.testing instead.\n",
      "  import pandas.util.testing as tm\n"
     ]
    }
   ],
   "source": [
    "import simbench as sb\n",
    "import numpy as np\n",
    "import pandapower.networks as pn\n",
    "from sklearn.cluster import k_means\n",
    "from sklearn.metrics import calinski_harabasz_score, davies_bouldin_score\n",
    "import matplotlib.pyplot as plt\n",
    "import pandas as pd\n",
    "import pickle\n",
    "import pandapower as pp"
   ]
  },
  {
   "cell_type": "code",
   "execution_count": 2,
   "metadata": {},
   "outputs": [],
   "source": [
    "def initialise_grid():\n",
    "    LOAD_MAGNIFICATION_FACTOR = 2.5\n",
    "    net = pn.case30()\n",
    "    net.load['p_mw'] = net.load['p_mw'] * LOAD_MAGNIFICATION_FACTOR\n",
    "    net.line['max_i_ka'] = net.line['max_i_ka'] * LOAD_MAGNIFICATION_FACTOR * 100\n",
    "\n",
    "    net.poly_cost.loc[0, 'cp1_eur_per_mw'] = 4\n",
    "    net.poly_cost.loc[0, 'cp2_eur_per_mw2'] = 0.05\n",
    "    \n",
    "    # net.poly_cost.loc[2, 'cp2_eur_per_mw2'] = 0.01  # attention\n",
    "\n",
    "    wind_num = 1\n",
    "    pv_num = 2\n",
    "    wind_poses = [2]\n",
    "    pv_poses = [3, 5]\n",
    "    # pv_poses = [3, 4, 5, 6]     # To be modified...\n",
    "\n",
    "    for wind_pos in wind_poses:\n",
    "        pp.create_sgen(net, wind_pos, 100,     # To be modified...\n",
    "                       type='Wind_MV', controllable=False)\n",
    "    for pv_pos in pv_poses:\n",
    "        pp.create_sgen(net, pv_pos, 20,\n",
    "                       type='PV_MV', controllable=False)\n",
    "\n",
    "    load_profile_belonging = ['G0-A',\n",
    "                              'G0-A',\n",
    "                              'G3-A',\n",
    "                              'G3-A',\n",
    "                              'G3-H',\n",
    "                              'G3-H',\n",
    "                              'G4-A',\n",
    "                              'G4-A',\n",
    "                              'G5-A',\n",
    "                              'G5-A',\n",
    "                              'L2-M',\n",
    "                              'L2-M',\n",
    "                              'G0-M',\n",
    "                              'G0-M',\n",
    "                              'G1-A',\n",
    "                              'G1-A',\n",
    "                              'G1-B',\n",
    "                              'G1-B',\n",
    "                              'G1-C',\n",
    "                              'G1-C']\n",
    "\n",
    "    net.load['profile'] = load_profile_belonging\n",
    "    net.sgen['profile'] = ['WP1', 'PV3', 'PV4']     # To be modified...\n",
    "    # net.sgen['profile'] = ['WP1', 'PV1', 'PV2', 'PV3', 'PV4']\n",
    "    \n",
    "    net.ext_grid['max_p_mw'] = 800\n",
    "    net.ext_grid['min_p_mw'] = -400\n",
    "\n",
    "    return net\n",
    "\n",
    "net = initialise_grid()\n",
    "net_load_max = net.load['p_mw']\n",
    "net_sgen_max = net.sgen['p_mw']"
   ]
  },
  {
   "cell_type": "code",
   "execution_count": 26,
   "metadata": {},
   "outputs": [],
   "source": [
    "with open('typical_scenario.txt', 'rb') as file:\n",
    "    typical_scenarios = pickle.load(file)\n",
    "    \n",
    "# with open('all_scenarios_dataset.txt', 'rb') as file:\n",
    "#     typical_scenarios = pickle.load(file)"
   ]
  },
  {
   "cell_type": "code",
   "execution_count": 13,
   "metadata": {},
   "outputs": [
    {
     "data": {
      "image/png": "[encoded data removed]",
      "text/plain": [
       "<Figure size 432x288 with 1 Axes>"
      ]
     },
     "metadata": {
      "needs_background": "light"
     },
     "output_type": "display_data"
    }
   ],
   "source": [
    "for i in range(50):\n",
    "    plt.plot(typical_scenarios[i]['WP1'])"
   ]
  },
  {
   "cell_type": "code",
   "execution_count": 4,
   "metadata": {},
   "outputs": [
    {
     "data": {
      "text/plain": [
       "50"
      ]
     },
     "execution_count": 4,
     "metadata": {},
     "output_type": "execute_result"
    }
   ],
   "source": [
    "len(typical_scenarios)"
   ]
  },
  {
   "cell_type": "code",
   "execution_count": 27,
   "metadata": {},
   "outputs": [],
   "source": [
    "def update_value(net, profile, time_step):\n",
    "    for i in range(net.load.shape[0]):\n",
    "        net.load.loc[i, 'p_mw'] = profile.loc[time_step, net.load.loc[i]['profile']] * net_load_max[i]\n",
    "        \n",
    "    for i in range(net.sgen.shape[0]):\n",
    "        net.sgen.loc[i, 'p_mw'] = profile.loc[time_step, net.sgen.loc[i]['profile']] * net_sgen_max[i]"
   ]
  },
  {
   "cell_type": "code",
   "execution_count": 65,
   "metadata": {},
   "outputs": [
    {
     "data": {
      "text/plain": [
       "(24,)"
      ]
     },
     "execution_count": 65,
     "metadata": {},
     "output_type": "execute_result"
    }
   ],
   "source": [
    "gen_logger.sum(axis=0).shape"
   ]
  },
  {
   "cell_type": "code",
   "execution_count": 54,
   "metadata": {
    "scrolled": true
   },
   "outputs": [
    {
     "name": "stdout",
     "output_type": "stream",
     "text": [
      "iter:  2\n"
     ]
    },
    {
     "data": {
      "image/png": "[encoded data removed]",
      "text/plain": [
       "<Figure size 432x288 with 1 Axes>"
      ]
     },
     "metadata": {
      "needs_background": "light"
     },
     "output_type": "display_data"
    }
   ],
   "source": [
    "avg_cost = []\n",
    "fail_times = 0\n",
    "\n",
    "j = 2\n",
    "\n",
    "print('iter: ', j)\n",
    "net = initialise_grid()\n",
    "cost = 0\n",
    "gen_logger = []\n",
    "sgen_logger = []\n",
    "ext_grid_logger = []\n",
    "load_logger = []\n",
    "for t in range(24):\n",
    "    update_value(net, typical_scenarios[j], t)\n",
    "    # print(net.load['p_mw'].sum())\n",
    "    # print(net.sgen)\n",
    "    try:\n",
    "        pp.rundcopp(net)\n",
    "        # print(net.res_ext_grid)\n",
    "        gen_logger.append(net.res_gen['p_mw'].values)\n",
    "        sgen_logger.append(net.res_sgen['p_mw'].values)\n",
    "        ext_grid_logger.append(net.res_ext_grid['p_mw'].values)\n",
    "        load_logger.append(net.load['p_mw'].sum())\n",
    "    except BaseException as exp:\n",
    "        fail_times += 1\n",
    "        print('failed')\n",
    "        print(net.load['p_mw'].sum())\n",
    "        print(net.sgen)\n",
    "        break\n",
    "    # print('success')\n",
    "\n",
    "    cost += net.res_cost\n",
    "\n",
    "# avg_cost.append(cost)\n",
    "gen_logger = np.array(gen_logger).transpose().sum(axis=0)\n",
    "sgen_logger = np.array(sgen_logger).transpose()\n",
    "sgen_logger_wind = sgen_logger[0, :]\n",
    "sgen_logger_pv = sgen_logger[1:, :].sum(axis=0)\n",
    "fig, ax = plt.subplots()\n",
    "  \n",
    "ax.plot(gen_logger, label='机组总出力')\n",
    "ax.plot(sgen_logger_wind, '--', label = '风电机组总出力')\n",
    "ax.plot(sgen_logger_pv, '--', label = '光伏机组总出力')\n",
    "ax.plot(load_logger, '-.', label = '总负荷功率')\n",
    "        \n",
    "\n",
    "# ext_grid_logger = [0] * 24\n",
    "# ax.plot(ext_grid_logger, '*', label='外部电网输入功率')\n",
    "        \n",
    "plt.legend()\n",
    "\n",
    "plt.legend(fontsize=12)\n",
    "plt.xticks(ticks=range(0,24,2), fontsize=14)\n",
    "plt.yticks(fontsize=14)\n",
    "plt.xlabel(u'时间(h)', fontsize=14)\n",
    "plt.ylabel(u'功率(MW)', fontsize=14)\n",
    "plt.savefig('场景对比风电', dpi=300, bbox_inches='tight')\n",
    "\n",
    "# np.mean(avg_cost)"
   ]
  },
  {
   "cell_type": "code",
   "execution_count": 50,
   "metadata": {},
   "outputs": [
    {
     "data": {
      "text/plain": [
       "['__class__',\n",
       " '__delattr__',\n",
       " '__dict__',\n",
       " '__dir__',\n",
       " '__doc__',\n",
       " '__eq__',\n",
       " '__format__',\n",
       " '__ge__',\n",
       " '__getattribute__',\n",
       " '__getstate__',\n",
       " '__gt__',\n",
       " '__hash__',\n",
       " '__init__',\n",
       " '__init_subclass__',\n",
       " '__le__',\n",
       " '__lt__',\n",
       " '__module__',\n",
       " '__ne__',\n",
       " '__new__',\n",
       " '__reduce__',\n",
       " '__reduce_ex__',\n",
       " '__repr__',\n",
       " '__setattr__',\n",
       " '__setstate__',\n",
       " '__sizeof__',\n",
       " '__str__',\n",
       " '__subclasshook__',\n",
       " '__weakref__',\n",
       " '_add_axes_internal',\n",
       " '_agg_filter',\n",
       " '_align_xlabel_grp',\n",
       " '_align_ylabel_grp',\n",
       " '_alpha',\n",
       " '_animated',\n",
       " '_axobservers',\n",
       " '_axstack',\n",
       " '_cachedRenderer',\n",
       " '_clipon',\n",
       " '_clippath',\n",
       " '_constrained',\n",
       " '_constrained_layout_pads',\n",
       " '_contains',\n",
       " '_dpi',\n",
       " '_gci',\n",
       " '_get_axes',\n",
       " '_get_clipping_extent_bbox',\n",
       " '_get_dpi',\n",
       " '_gid',\n",
       " '_gridspecs',\n",
       " '_in_layout',\n",
       " '_label',\n",
       " '_layoutbox',\n",
       " '_make_key',\n",
       " '_mouseover',\n",
       " '_oid',\n",
       " '_path_effects',\n",
       " '_picker',\n",
       " '_process_projection_requirements',\n",
       " '_prop_order',\n",
       " '_propobservers',\n",
       " '_rasterized',\n",
       " '_remove_ax',\n",
       " '_remove_method',\n",
       " '_repr_html_',\n",
       " '_set_artist_props',\n",
       " '_set_dpi',\n",
       " '_set_gc_clip',\n",
       " '_sketch',\n",
       " '_snap',\n",
       " '_stale',\n",
       " '_sticky_edges',\n",
       " '_suptitle',\n",
       " '_tight',\n",
       " '_tight_parameters',\n",
       " '_transform',\n",
       " '_transformSet',\n",
       " '_url',\n",
       " '_visible',\n",
       " 'add_artist',\n",
       " 'add_axes',\n",
       " 'add_axobserver',\n",
       " 'add_callback',\n",
       " 'add_gridspec',\n",
       " 'add_subplot',\n",
       " 'align_labels',\n",
       " 'align_xlabels',\n",
       " 'align_ylabels',\n",
       " 'aname',\n",
       " 'artists',\n",
       " 'autofmt_xdate',\n",
       " 'axes',\n",
       " 'bbox',\n",
       " 'bbox_inches',\n",
       " 'callbacks',\n",
       " 'canvas',\n",
       " 'clear',\n",
       " 'clf',\n",
       " 'clipbox',\n",
       " 'colorbar',\n",
       " 'contains',\n",
       " 'convert_xunits',\n",
       " 'convert_yunits',\n",
       " 'delaxes',\n",
       " 'dpi',\n",
       " 'dpi_scale_trans',\n",
       " 'draw',\n",
       " 'draw_artist',\n",
       " 'eventson',\n",
       " 'execute_constrained_layout',\n",
       " 'figimage',\n",
       " 'figure',\n",
       " 'findobj',\n",
       " 'format_cursor_data',\n",
       " 'frameon',\n",
       " 'gca',\n",
       " 'get_agg_filter',\n",
       " 'get_alpha',\n",
       " 'get_animated',\n",
       " 'get_axes',\n",
       " 'get_children',\n",
       " 'get_clip_box',\n",
       " 'get_clip_on',\n",
       " 'get_clip_path',\n",
       " 'get_constrained_layout',\n",
       " 'get_constrained_layout_pads',\n",
       " 'get_contains',\n",
       " 'get_cursor_data',\n",
       " 'get_default_bbox_extra_artists',\n",
       " 'get_dpi',\n",
       " 'get_edgecolor',\n",
       " 'get_facecolor',\n",
       " 'get_figheight',\n",
       " 'get_figure',\n",
       " 'get_figwidth',\n",
       " 'get_frameon',\n",
       " 'get_gid',\n",
       " 'get_in_layout',\n",
       " 'get_label',\n",
       " 'get_path_effects',\n",
       " 'get_picker',\n",
       " 'get_rasterized',\n",
       " 'get_size_inches',\n",
       " 'get_sketch_params',\n",
       " 'get_snap',\n",
       " 'get_tight_layout',\n",
       " 'get_tightbbox',\n",
       " 'get_transform',\n",
       " 'get_transformed_clip_path_and_affine',\n",
       " 'get_url',\n",
       " 'get_visible',\n",
       " 'get_window_extent',\n",
       " 'get_zorder',\n",
       " 'ginput',\n",
       " 'have_units',\n",
       " 'images',\n",
       " 'init_layoutbox',\n",
       " 'is_transform_set',\n",
       " 'legend',\n",
       " 'legends',\n",
       " 'lines',\n",
       " 'mouseover',\n",
       " 'number',\n",
       " 'patch',\n",
       " 'patches',\n",
       " 'pchanged',\n",
       " 'pick',\n",
       " 'pickable',\n",
       " 'properties',\n",
       " 'remove',\n",
       " 'remove_callback',\n",
       " 'savefig',\n",
       " 'sca',\n",
       " 'set',\n",
       " 'set_agg_filter',\n",
       " 'set_alpha',\n",
       " 'set_animated',\n",
       " 'set_canvas',\n",
       " 'set_clip_box',\n",
       " 'set_clip_on',\n",
       " 'set_clip_path',\n",
       " 'set_constrained_layout',\n",
       " 'set_constrained_layout_pads',\n",
       " 'set_contains',\n",
       " 'set_dpi',\n",
       " 'set_edgecolor',\n",
       " 'set_facecolor',\n",
       " 'set_figheight',\n",
       " 'set_figure',\n",
       " 'set_figwidth',\n",
       " 'set_frameon',\n",
       " 'set_gid',\n",
       " 'set_in_layout',\n",
       " 'set_label',\n",
       " 'set_path_effects',\n",
       " 'set_picker',\n",
       " 'set_rasterized',\n",
       " 'set_size_inches',\n",
       " 'set_sketch_params',\n",
       " 'set_snap',\n",
       " 'set_tight_layout',\n",
       " 'set_transform',\n",
       " 'set_url',\n",
       " 'set_visible',\n",
       " 'set_zorder',\n",
       " 'show',\n",
       " 'stale',\n",
       " 'stale_callback',\n",
       " 'sticky_edges',\n",
       " 'subplotpars',\n",
       " 'subplots',\n",
       " 'subplots_adjust',\n",
       " 'suppressComposite',\n",
       " 'suptitle',\n",
       " 'text',\n",
       " 'texts',\n",
       " 'tight_layout',\n",
       " 'transFigure',\n",
       " 'update',\n",
       " 'update_from',\n",
       " 'waitforbuttonpress',\n",
       " 'zorder']"
      ]
     },
     "execution_count": 50,
     "metadata": {},
     "output_type": "execute_result"
    }
   ],
   "source": []
  },
  {
   "cell_type": "markdown",
   "metadata": {},
   "source": [
    "28,29"
   ]
  },
  {
   "cell_type": "code",
   "execution_count": 7,
   "metadata": {
    "scrolled": true
   },
   "outputs": [],
   "source": [
    "# avg_cost = []\n",
    "# fail_times = 0\n",
    "# for j in range(len(typical_scenarios)):\n",
    "#     print('iter: ', j)\n",
    "#     net = initialise_grid()\n",
    "#     cost = 0\n",
    "#     for t in range(24):\n",
    "#         update_value(net, typical_scenarios[j], t)\n",
    "#         # print(net.load['p_mw'].sum())\n",
    "#         # print(net.sgen)\n",
    "#         try:\n",
    "#             pp.rundcopp(net)\n",
    "#             print(net.res_ext_grid)\n",
    "#         except BaseException as exp:\n",
    "#             fail_times += 1\n",
    "#             print('failed')\n",
    "#             print(net.load['p_mw'].sum())\n",
    "#             print(net.sgen)\n",
    "#             break\n",
    "#         # print('success')\n",
    "\n",
    "#         cost += net.res_cost\n",
    "        \n",
    "#     avg_cost.append(cost)\n",
    "    \n",
    "# np.mean(avg_cost)"
   ]
  },
  {
   "cell_type": "code",
   "execution_count": 8,
   "metadata": {
    "scrolled": true
   },
   "outputs": [],
   "source": [
    "# cost / 24"
   ]
  },
  {
   "cell_type": "markdown",
   "metadata": {},
   "source": [
    "方案1 + 典型场景：8850.835099104905\n",
    "\n",
    "方案1 + 随机场景：7316.838560865415    20 fails\n",
    "\n",
    "方案2 + 典型场景：10530.63710644616\n",
    "\n",
    "方案2 + 随机场景：9293.473650630587   11 fails\n"
   ]
  },
  {
   "cell_type": "code",
   "execution_count": 9,
   "metadata": {},
   "outputs": [
    {
     "data": {
      "text/plain": [
       "7949.745929999999"
      ]
     },
     "execution_count": 9,
     "metadata": {},
     "output_type": "execute_result"
    }
   ],
   "source": [
    "7832.262 * 1.015"
   ]
  },
  {
   "cell_type": "markdown",
   "metadata": {},
   "source": [
    "方案1 + 全场景：6473.853749653268\n",
    "\n",
    "方案1 + 典型场景：6242.215870626957\n",
    "\n",
    "方案1 + 随机场景：7280.584135592549\n",
    "\n",
    "方案2 + 全场景：8285.223498088346\n",
    "\n",
    "方案2 + 典型场景：7832.261526287449\n",
    "\n",
    "方案2 + 随机场景：8650.020884526177"
   ]
  }
 ],
 "metadata": {
  "kernelspec": {
   "display_name": "Python 3",
   "language": "python",
   "name": "python3"
  },
  "language_info": {
   "codemirror_mode": {
    "name": "ipython",
    "version": 3
   },
   "file_extension": ".py",
   "mimetype": "text/x-python",
   "name": "python",
   "nbconvert_exporter": "python",
   "pygments_lexer": "ipython3",
   "version": "3.7.3"
  }
 },
 "nbformat": 4,
 "nbformat_minor": 5
}
