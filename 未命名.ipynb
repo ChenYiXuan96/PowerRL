{
 "cells": [
  {
   "cell_type": "code",
   "execution_count": 1,
   "id": "vanilla-hampton",
   "metadata": {},
   "outputs": [],
   "source": [
    "r = 0.096342287609243"
   ]
  },
  {
   "cell_type": "code",
   "execution_count": 5,
   "id": "amino-thesis",
   "metadata": {},
   "outputs": [
    {
     "data": {
      "text/plain": [
       "28652196.33498887"
      ]
     },
     "execution_count": 5,
     "metadata": {},
     "output_type": "execute_result"
    }
   ],
   "source": [
    "(2480000 * 80 + 1980000 * 50) * r"
   ]
  },
  {
   "cell_type": "code",
   "execution_count": 6,
   "id": "active-gardening",
   "metadata": {},
   "outputs": [
    {
     "data": {
      "text/plain": [
       "2657200"
      ]
     },
     "execution_count": 6,
     "metadata": {},
     "output_type": "execute_result"
    }
   ],
   "source": [
    "7280 * 365"
   ]
  }
 ],
 "metadata": {
  "kernelspec": {
   "display_name": "Python 3",
   "language": "python",
   "name": "python3"
  },
  "language_info": {
   "codemirror_mode": {
    "name": "ipython",
    "version": 3
   },
   "file_extension": ".py",
   "mimetype": "text/x-python",
   "name": "python",
   "nbconvert_exporter": "python",
   "pygments_lexer": "ipython3",
   "version": "3.7.10"
  }
 },
 "nbformat": 4,
 "nbformat_minor": 5
}
