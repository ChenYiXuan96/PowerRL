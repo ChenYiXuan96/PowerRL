{
 "cells": [
  {
   "cell_type": "code",
   "execution_count": 3,
   "metadata": {},
   "outputs": [],
   "source": [
    "x = [[  80.0000,   80.0000,   80.0000,   80.0000,   80.0000,   80.0000,   80.0000,   80.0000,   80.0000,   80.0000,   80.0000,   80.0000],\n",
    " [ 110.9990,  161.9990,  154.0010,  167.5010,  144.9990,  129.9990,  104.9990,   50.0000,   50.0000,   50.0000,   50.0000,   82.4990],\n",
    " [  55.0000,   55.0000,   55.0000,   55.0000,   55.0000,   55.0000,   55.0000,   55.0000,   55.0000,   55.0000,   55.0000,   55.0000],\n",
    " [  30.0000,   30.0000,   96.9980,   47.9980,   30.0000,   30.0000,   30.0000,   30.0000,   30.0000,   30.0000,   30.0000,   30.0000],\n",
    " [  40.0000,   40.0000,   40.0000,  40.0000,    40.0000,   40.0000,   40.0000,   40.0000,   40.0000,   40.0000,   40.0000,   40.0000],\n",
    " [  80.0000,   65.0000,   60.0000,   82.0000,  100.0000,   70.0000,   50.0000,   59.9990,   14.9990,   37.4990,   82.4990,   95.0000]]"
   ]
  },
  {
   "cell_type": "code",
   "execution_count": null,
   "metadata": {},
   "outputs": [],
   "source": []
  },
  {
   "cell_type": "code",
   "execution_count": null,
   "metadata": {},
   "outputs": [],
   "source": []
  }
 ],
 "metadata": {
  "kernelspec": {
   "display_name": "Python 3",
   "language": "python",
   "name": "python3"
  },
  "language_info": {
   "codemirror_mode": {
    "name": "ipython",
    "version": 3
   },
   "file_extension": ".py",
   "mimetype": "text/x-python",
   "name": "python",
   "nbconvert_exporter": "python",
   "pygments_lexer": "ipython3",
   "version": "3.7.3"
  }
 },
 "nbformat": 4,
 "nbformat_minor": 2
}
